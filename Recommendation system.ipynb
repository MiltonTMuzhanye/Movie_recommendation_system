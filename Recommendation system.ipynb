{
 "cells": [
  {
   "cell_type": "code",
   "execution_count": 1,
   "id": "4b87c20b-eb51-4e26-a003-d25f7fae68ed",
   "metadata": {},
   "outputs": [
    {
     "name": "stdout",
     "output_type": "stream",
     "text": [
      "Requirement already satisfied: scikit-surprise in c:\\users\\27733\\anaconda3\\lib\\site-packages (1.1.4)\n",
      "Requirement already satisfied: joblib>=1.2.0 in c:\\users\\27733\\anaconda3\\lib\\site-packages (from scikit-surprise) (1.5.1)\n",
      "Requirement already satisfied: numpy>=1.19.5 in c:\\users\\27733\\anaconda3\\lib\\site-packages (from scikit-surprise) (1.26.4)\n",
      "Requirement already satisfied: scipy>=1.6.0 in c:\\users\\27733\\anaconda3\\lib\\site-packages (from scikit-surprise) (1.16.0)\n"
     ]
    },
    {
     "name": "stderr",
     "output_type": "stream",
     "text": [
      "WARNING: Ignoring invalid distribution ~cikit-learn (C:\\Users\\27733\\anaconda3\\Lib\\site-packages)\n",
      "WARNING: Ignoring invalid distribution ~qlalchemy (C:\\Users\\27733\\anaconda3\\Lib\\site-packages)\n",
      "WARNING: Ignoring invalid distribution ~cikit-learn (C:\\Users\\27733\\anaconda3\\Lib\\site-packages)\n",
      "WARNING: Ignoring invalid distribution ~qlalchemy (C:\\Users\\27733\\anaconda3\\Lib\\site-packages)\n",
      "WARNING: Ignoring invalid distribution ~cikit-learn (C:\\Users\\27733\\anaconda3\\Lib\\site-packages)\n",
      "WARNING: Ignoring invalid distribution ~qlalchemy (C:\\Users\\27733\\anaconda3\\Lib\\site-packages)\n"
     ]
    }
   ],
   "source": [
    "# Import libraries\n",
    "import pandas as pd\n",
    "import numpy as np\n",
    "import matplotlib.pyplot as plt\n",
    "!pip install scikit-surprise\n",
    "from sklearn.metrics.pairwise import cosine_similarity\n",
    "from sklearn.feature_extraction.text import TfidfVectorizer\n",
    "from surprise import Dataset, Reader, KNNBasic, SVD, accuracy\n",
    "from surprise.model_selection import train_test_split, cross_validate\n",
    "import warnings\n",
    "warnings.filterwarnings('ignore')"
   ]
  },
  {
   "cell_type": "code",
   "execution_count": 2,
   "id": "8ff7f055-ad3a-4b64-bda7-6b665d7fe79d",
   "metadata": {},
   "outputs": [],
   "source": [
    "# Load Data \n",
    "# Load the dataset (after unzipping ml-latest-small.zip)\n",
    "# Load Data \n",
    "movies = pd.read_csv('movies.csv')\n",
    "ratings = pd.read_csv('ratings.csv')"
   ]
  },
  {
   "cell_type": "code",
   "execution_count": 3,
   "id": "5fc283fa-728f-4708-910e-3bb816142b49",
   "metadata": {},
   "outputs": [
    {
     "name": "stdout",
     "output_type": "stream",
     "text": [
      "\n",
      "Data Overview:\n",
      "Movies: 9742 records\n",
      "Ratings: 100836 records\n",
      "\n",
      "Sample Movies:\n",
      "   movieId                               title  \\\n",
      "0        1                    Toy Story (1995)   \n",
      "1        2                      Jumanji (1995)   \n",
      "2        3             Grumpier Old Men (1995)   \n",
      "3        4            Waiting to Exhale (1995)   \n",
      "4        5  Father of the Bride Part II (1995)   \n",
      "\n",
      "                                        genres  \n",
      "0  Adventure|Animation|Children|Comedy|Fantasy  \n",
      "1                   Adventure|Children|Fantasy  \n",
      "2                               Comedy|Romance  \n",
      "3                         Comedy|Drama|Romance  \n",
      "4                                       Comedy  \n",
      "\n",
      "Sample Ratings:\n",
      "   userId  movieId  rating  timestamp\n",
      "0       1        1     4.0  964982703\n",
      "1       1        3     4.0  964981247\n",
      "2       1        6     4.0  964982224\n",
      "3       1       47     5.0  964983815\n",
      "4       1       50     5.0  964982931\n"
     ]
    }
   ],
   "source": [
    "# Data Overview\n",
    "print(\"\\nData Overview:\")\n",
    "print(f\"Movies: {movies.shape[0]} records\")\n",
    "print(f\"Ratings: {ratings.shape[0]} records\")\n",
    "print(\"\\nSample Movies:\")\n",
    "print(movies.head())\n",
    "print(\"\\nSample Ratings:\")\n",
    "print(ratings.head())"
   ]
  },
  {
   "cell_type": "code",
   "execution_count": 4,
   "id": "cf673589-d572-4883-9c0b-babfa5bcfc84",
   "metadata": {},
   "outputs": [
    {
     "data": {
      "image/png": "[encoded data removed]",
      "text/plain": [
       "<Figure size 800x400 with 1 Axes>"
      ]
     },
     "metadata": {},
     "output_type": "display_data"
    }
   ],
   "source": [
    "plt.figure(figsize=(8,4))\n",
    "bins = [0.5, 1, 1.5, 2, 2.5, 3, 3.5, 4, 4.5, 5.0]\n",
    "plt.hist(ratings['rating'], bins=bins, edgecolor='black', align='left')\n",
    "plt.xticks(bins)\n",
    "plt.title('Distribution of Movie Ratings')\n",
    "plt.xlabel('Rating')\n",
    "plt.ylabel('Count')\n",
    "plt.grid(axis='y', linestyle='--', alpha=0.7)\n",
    "plt.show()"
   ]
  },
  {
   "cell_type": "code",
   "execution_count": 5,
   "id": "d5609ad8-1a35-40ef-8ad5-81a7933fc3c9",
   "metadata": {},
   "outputs": [],
   "source": [
    "# Preprocessing\n",
    "movies['genres'] = movies['genres'].apply(lambda x: x.split('|') if isinstance(x, str) else x)\n",
    "genre_expanded = movies.explode('genres')\n",
    "genre_dummies = pd.get_dummies(genre_expanded['genres']).groupby(genre_expanded['movieId']).max()\n",
    "\n",
    "movies = pd.merge(movies, genre_dummies, left_on='movieId', right_index=True)\n",
    "movies['year'] = movies['title'].str.extract(r'\\((\\d{4})\\)').astype(float)\n",
    "\n",
    "user_item_matrix = ratings.pivot_table(\n",
    "    index='userId',\n",
    "    columns='movieId',\n",
    "    values='rating'\n",
    ").fillna(0)"
   ]
  },
  {
   "cell_type": "code",
   "execution_count": 6,
   "id": "72221802-ea43-4648-b4d3-2907ce546a6a",
   "metadata": {},
   "outputs": [
    {
     "name": "stdout",
     "output_type": "stream",
     "text": [
      "\n",
      "Content-based recommendations similar to 'Toy Story':\n",
      "      movieId                title  \\\n",
      "2355     3114   Toy Story 2 (1999)   \n",
      "7355    78499   Toy Story 3 (2010)   \n",
      "3595     4929      Toy, The (1982)   \n",
      "4089     5843  Toy Soldiers (1991)   \n",
      "26         27  Now and Then (1995)   \n",
      "\n",
      "                                                 genres  \n",
      "2355  [Adventure, Animation, Children, Comedy, Fantasy]  \n",
      "7355  [Adventure, Animation, Children, Comedy, Fanta...  \n",
      "3595                                           [Comedy]  \n",
      "4089                                    [Action, Drama]  \n",
      "26                                    [Children, Drama]  \n"
     ]
    }
   ],
   "source": [
    "# Content-Based Recommendations\n",
    "\n",
    "tfidf = TfidfVectorizer(stop_words='english')\n",
    "title_matrix = tfidf.fit_transform(movies['title'])\n",
    "title_similarity = cosine_similarity(title_matrix)\n",
    "\n",
    "# use toy story as an example\n",
    "try:\n",
    "    toy_story_idx = movies[movies['title'].str.contains(\"Toy Story\", case=False)].index[0]\n",
    "    sim_scores = list(enumerate(title_similarity[toy_story_idx]))\n",
    "    sim_scores = sorted(sim_scores, key=lambda x: x[1], reverse=True)\n",
    "    sim_indices = [i[0] for i in sim_scores[1:6]]\n",
    "    content_recs = movies.iloc[sim_indices][['movieId', 'title', 'genres']]\n",
    "    \n",
    "    print(\"\\nContent-based recommendations similar to 'Toy Story':\")\n",
    "    print(content_recs)\n",
    "except IndexError:\n",
    "    print(\"Movie not found\")"
   ]
  },
  {
   "cell_type": "code",
   "execution_count": 7,
   "id": "103b1086-b8b5-4bf9-aa7f-4eef69dfb9f9",
   "metadata": {},
   "outputs": [
    {
     "name": "stdout",
     "output_type": "stream",
     "text": [
      "Computing the cosine similarity matrix...\n",
      "Done computing similarity matrix.\n"
     ]
    },
    {
     "data": {
      "text/plain": [
       "<surprise.prediction_algorithms.matrix_factorization.SVD at 0x28ecb0e5520>"
      ]
     },
     "execution_count": 7,
     "metadata": {},
     "output_type": "execute_result"
    }
   ],
   "source": [
    "# Collaborative Filtering Setup\n",
    "reader = Reader(rating_scale=(0.5, 5))\n",
    "data = Dataset.load_from_df(ratings[['userId', 'movieId', 'rating']], reader)\n",
    "trainset, testset = train_test_split(data, test_size=0.25)\n",
    "# KNN\n",
    "knn = KNNBasic(sim_options={'name': 'cosine', 'user_based': True})\n",
    "knn.fit(trainset)\n",
    "# SVD\n",
    "svd = SVD()\n",
    "svd.fit(trainset)"
   ]
  },
  {
   "cell_type": "code",
   "execution_count": 8,
   "id": "d5eb7c2a-ece4-4d5b-af34-2cb97234476d",
   "metadata": {},
   "outputs": [
    {
     "name": "stdout",
     "output_type": "stream",
     "text": [
      "RMSE: 0.9768\n",
      "MAE:  0.7524\n",
      "RMSE: 0.8792\n",
      "MAE:  0.6765\n"
     ]
    }
   ],
   "source": [
    "# Model Evaluation\n",
    "# KNN\n",
    "knn_predictions = knn.test(testset)\n",
    "knn_rmse = accuracy.rmse(knn_predictions)\n",
    "knn_mae = accuracy.mae(knn_predictions)\n",
    "# SVD \n",
    "svd_predictions = svd.test(testset)\n",
    "svd_rmse = accuracy.rmse(svd_predictions)\n",
    "svd_mae = accuracy.mae(svd_predictions)"
   ]
  },
  {
   "cell_type": "code",
   "execution_count": 9,
   "id": "d2a387e3-a039-4640-b315-0ce72b409e87",
   "metadata": {},
   "outputs": [
    {
     "name": "stdout",
     "output_type": "stream",
     "text": [
      "\n",
      "Cross-validated Metrics:\n",
      "Computing the cosine similarity matrix...\n",
      "Done computing similarity matrix.\n",
      "Computing the cosine similarity matrix...\n",
      "Done computing similarity matrix.\n",
      "Computing the cosine similarity matrix...\n",
      "Done computing similarity matrix.\n"
     ]
    }
   ],
   "source": [
    "# Cross-validation for more robust metrics\n",
    "print(\"\\nCross-validated Metrics:\")\n",
    "cv_knn = cross_validate(knn, data, measures=['RMSE', 'MAE'], cv=3, verbose=False)\n",
    "cv_svd = cross_validate(svd, data, measures=['RMSE', 'MAE'], cv=3, verbose=False)"
   ]
  },
  {
   "cell_type": "code",
   "execution_count": 10,
   "id": "15dfef96-729b-4c54-acfd-3c62bb4440be",
   "metadata": {},
   "outputs": [],
   "source": [
    "# Create comparison dataframe\n",
    "metrics_df = pd.DataFrame({\n",
    "    'Model': ['KNN', 'SVD'],\n",
    "    'RMSE': [knn_rmse, svd_rmse],\n",
    "    'MAE': [knn_mae, svd_mae],\n",
    "    'CV RMSE': [np.mean(cv_knn['test_rmse']), np.mean(cv_svd['test_rmse'])],\n",
    "    'CV MAE': [np.mean(cv_knn['test_mae']), np.mean(cv_svd['test_mae'])]\n",
    "})"
   ]
  },
  {
   "cell_type": "code",
   "execution_count": 11,
   "id": "731f1c5a-a2bb-4f9f-b028-31e3bc908c7d",
   "metadata": {},
   "outputs": [
    {
     "data": {
      "image/png": "[encoded data removed]",
      "text/plain": [
       "<Figure size 1000x500 with 1 Axes>"
      ]
     },
     "metadata": {},
     "output_type": "display_data"
    },
    {
     "name": "stdout",
     "output_type": "stream",
     "text": [
      "\n",
      "Model Performance Metrics:\n",
      "  Model      RMSE       MAE   CV RMSE    CV MAE\n",
      "0   KNN  0.976835  0.752375  0.980084  0.755402\n",
      "1   SVD  0.879200  0.676498  0.881807  0.678152\n"
     ]
    }
   ],
   "source": [
    "# Visualize model performance\n",
    "metrics_df.set_index('Model')[['RMSE', 'MAE']].plot(kind='bar', figsize=(10,5))\n",
    "plt.title('Model Performance Comparison')\n",
    "plt.ylabel('Error Metric Value')\n",
    "plt.xticks(rotation=0)\n",
    "plt.show()\n",
    "\n",
    "print(\"\\nModel Performance Metrics:\")\n",
    "print(metrics_df)"
   ]
  },
  {
   "cell_type": "code",
   "execution_count": 12,
   "id": "07c09063-72de-476b-b819-16a658a8b7bc",
   "metadata": {},
   "outputs": [
    {
     "name": "stdout",
     "output_type": "stream",
     "text": [
      "\n",
      "Collaborative recommendations for user 1:\n",
      "                                                  title  \\\n",
      "277                    Shawshank Redemption, The (1994)   \n",
      "585   Wallace & Gromit: The Best of Aardman Animatio...   \n",
      "680                      Philadelphia Story, The (1940)   \n",
      "971                                       Patton (1970)   \n",
      "6315                               Departed, The (2006)   \n",
      "\n",
      "                              genres  predicted_rating  \n",
      "277                   [Crime, Drama]                 5  \n",
      "585   [Adventure, Animation, Comedy]                 5  \n",
      "680         [Comedy, Drama, Romance]                 5  \n",
      "971                     [Drama, War]                 5  \n",
      "6315        [Crime, Drama, Thriller]                 5  \n"
     ]
    }
   ],
   "source": [
    "# Collaborative Recommendations for User 1 using SVD\n",
    "user_id = 1\n",
    "top_n = 5\n",
    "\n",
    "# Get all movies the user hasn't rated\n",
    "rated_movies = ratings[ratings['userId'] == user_id]['movieId']\n",
    "all_movies = ratings['movieId'].unique()\n",
    "unseen_movies = [m for m in all_movies if m not in rated_movies.values]\n",
    "\n",
    "# Predict ratings for unseen movies\n",
    "svd_testset = [[user_id, movie_id, 4.] for movie_id in unseen_movies]\n",
    "predictions = svd.test(svd_testset)\n",
    "\n",
    "# Get top predictions\n",
    "top_movies = sorted(predictions, key=lambda x: x.est, reverse=True)[:top_n]\n",
    "recommended_movie_ids = [int(pred.iid) for pred in top_movies]\n",
    "\n",
    "# Display recommended movie titles\n",
    "collab_recs = movies[movies['movieId'].isin(recommended_movie_ids)][['title', 'genres']].copy()\n",
    "collab_recs['predicted_rating'] = [pred.est for pred in top_movies]\n",
    "\n",
    "print(\"\\nCollaborative recommendations for user 1:\")\n",
    "print(collab_recs.sort_values('predicted_rating', ascending=False))"
   ]
  },
  {
   "cell_type": "code",
   "execution_count": 13,
   "id": "b9b08bb6-5894-4d9d-9aa3-c71836696e31",
   "metadata": {},
   "outputs": [],
   "source": [
    "# Hybrid Recommendations for User 1 who liked \"Toy Story\"\n",
    "query = \"Toy Story\"\n",
    "user_id = 1\n",
    "top_n = 5\n",
    "\n",
    "# Content-based scores\n",
    "try:\n",
    "    query_idx = movies[movies['title'].str.contains(query, case=False)].index[0]\n",
    "    content_scores = title_similarity[query_idx]\n",
    "except IndexError:\n",
    "    print(\"Movie not found\")"
   ]
  },
  {
   "cell_type": "code",
   "execution_count": 14,
   "id": "60351d81-d38c-4a1f-af8b-f4d3e1ae898f",
   "metadata": {},
   "outputs": [
    {
     "name": "stdout",
     "output_type": "stream",
     "text": [
      "\n",
      "Hybrid recommendations for user 1 who liked 'Toy Story':\n",
      "                               title  \\\n",
      "0                   Toy Story (1995)   \n",
      "2355              Toy Story 2 (1999)   \n",
      "7355              Toy Story 3 (2010)   \n",
      "680   Philadelphia Story, The (1940)   \n",
      "3595                 Toy, The (1982)   \n",
      "\n",
      "                                                 genres  content_score  \\\n",
      "0     [Adventure, Animation, Children, Comedy, Fantasy]       1.000000   \n",
      "2355  [Adventure, Animation, Children, Comedy, Fantasy]       0.829901   \n",
      "7355  [Adventure, Animation, Children, Comedy, Fanta...       0.828108   \n",
      "680                            [Comedy, Drama, Romance]       0.237540   \n",
      "3595                                           [Comedy]       0.619902   \n",
      "\n",
      "      collab_score  combined_score  \n",
      "0         0.793631        0.896816  \n",
      "2355      0.855445        0.842673  \n",
      "7355      0.789570        0.808839  \n",
      "680       1.000000        0.618770  \n",
      "3595      0.617516        0.618709  \n"
     ]
    }
   ],
   "source": [
    "# Collaborative filtering predictions\n",
    "svd_scores = []\n",
    "for movie_id in movies['movieId']:\n",
    "    svd_scores.append(svd.predict(user_id, movie_id).est)\n",
    "\n",
    "# Normalize scores\n",
    "content_scores_norm = (content_scores - np.min(content_scores)) / (np.max(content_scores) - np.min(content_scores))\n",
    "svd_scores_norm = (np.array(svd_scores) - np.min(svd_scores)) / (np.max(svd_scores) - np.min(svd_scores))\n",
    "\n",
    "# Combine scores (equal weight)\n",
    "combined_scores = 0.5 * content_scores_norm + 0.5 * svd_scores_norm\n",
    "\n",
    "# Get top recommendations\n",
    "top_indices = np.argsort(combined_scores)[::-1][:top_n]\n",
    "hybrid_recs = movies.iloc[top_indices][['title', 'genres']].copy()\n",
    "hybrid_recs['content_score'] = content_scores_norm[top_indices]\n",
    "hybrid_recs['collab_score'] = svd_scores_norm[top_indices]\n",
    "hybrid_recs['combined_score'] = combined_scores[top_indices]\n",
    "\n",
    "print(\"\\nHybrid recommendations for user 1 who liked 'Toy Story':\")\n",
    "print(hybrid_recs.sort_values('combined_score', ascending=False))\n"
   ]
  },
  {
   "cell_type": "code",
   "execution_count": 15,
   "id": "af08c864-2c45-4065-b1db-cff9a2ff518f",
   "metadata": {},
   "outputs": [
    {
     "name": "stdout",
     "output_type": "stream",
     "text": [
      "\n",
      "Popular Recommendations (Cold Start Fallback):\n",
      "                                 title                            genres  \\\n",
      "314                Forrest Gump (1994)     [Comedy, Drama, Romance, War]   \n",
      "277   Shawshank Redemption, The (1994)                    [Crime, Drama]   \n",
      "257                Pulp Fiction (1994)  [Comedy, Crime, Drama, Thriller]   \n",
      "510   Silence of the Lambs, The (1991)         [Crime, Horror, Thriller]   \n",
      "1939                Matrix, The (1999)        [Action, Sci-Fi, Thriller]   \n",
      "\n",
      "      avg_rating  rating_count  \n",
      "314     4.164134           329  \n",
      "277     4.429022           317  \n",
      "257     4.197068           307  \n",
      "510     4.161290           279  \n",
      "1939    4.192446           278  \n"
     ]
    }
   ],
   "source": [
    "# Cold Start Handling - Popular Recommendations\n",
    "avg_ratings = ratings.groupby('movieId')['rating'].mean()\n",
    "rating_counts = ratings.groupby('movieId')['rating'].count()\n",
    "popular_movies = pd.DataFrame({\n",
    "    'avg_rating': avg_ratings,\n",
    "    'rating_count': rating_counts\n",
    "}).sort_values(['rating_count', 'avg_rating'], ascending=False)\n",
    "\n",
    "popular_recs = pd.merge(\n",
    "    popular_movies.head(top_n),\n",
    "    movies,\n",
    "    left_index=True,\n",
    "    right_on='movieId'\n",
    ")[['title', 'genres', 'avg_rating', 'rating_count']]\n",
    "\n",
    "print(\"\\nPopular Recommendations (Cold Start Fallback):\")\n",
    "print(popular_recs)"
   ]
  },
  {
   "cell_type": "code",
   "execution_count": 16,
   "id": "11db9762-6308-4081-a41e-6ec866f37a5c",
   "metadata": {},
   "outputs": [
    {
     "name": "stdout",
     "output_type": "stream",
     "text": [
      "\n",
      "--- DEMONSTRATION OF DIFFERENT APPROACHES ---\n",
      "\n",
      "1. Content-based recommendations for 'Inception':\n",
      "                      title            genres\n",
      "7343     Please Give (2010)   [Comedy, Drama]\n",
      "7419  I'm Still Here (2010)   [Comedy, Drama]\n",
      "7431       You Again (2010)          [Comedy]\n",
      "7450       Hereafter (2010)  [Drama, Fantasy]\n",
      "7462       Somewhere (2010)           [Drama]\n",
      "\n",
      "2. Collaborative recommendations for user 5:\n",
      "                                       title  \\\n",
      "863   Monty Python and the Holy Grail (1975)   \n",
      "922           Godfather: Part II, The (1974)   \n",
      "975                    Cool Hand Luke (1967)   \n",
      "1218                L.A. Confidential (1997)   \n",
      "2372                  Green Mile, The (1999)   \n",
      "\n",
      "                                     genres  \n",
      "863            [Adventure, Comedy, Fantasy]  \n",
      "922                          [Crime, Drama]  \n",
      "975                                 [Drama]  \n",
      "1218  [Crime, Film-Noir, Mystery, Thriller]  \n",
      "2372                         [Crime, Drama]  \n",
      "\n",
      "3. Hybrid recommendations for user 10 who liked 'The Dark Knight':\n",
      "                                               title  \\\n",
      "8032  Batman: The Dark Knight Returns, Part 1 (2012)   \n",
      "8080  Batman: The Dark Knight Returns, Part 2 (2013)   \n",
      "6710                         Dark Knight, The (2008)   \n",
      "7768                   Dark Knight Rises, The (2012)   \n",
      "1060                           Batman Returns (1992)   \n",
      "\n",
      "                                genres  \n",
      "8032       [Action, Animation, Sci-Fi]  \n",
      "8080               [Action, Animation]  \n",
      "6710      [Action, Crime, Drama, IMAX]  \n",
      "7768  [Action, Adventure, Crime, IMAX]  \n",
      "1060                   [Action, Crime]  \n",
      "\n",
      "4. Cold start handling for new user (showing popular movies):\n",
      "                                 title                            genres  \\\n",
      "314                Forrest Gump (1994)     [Comedy, Drama, Romance, War]   \n",
      "277   Shawshank Redemption, The (1994)                    [Crime, Drama]   \n",
      "257                Pulp Fiction (1994)  [Comedy, Crime, Drama, Thriller]   \n",
      "510   Silence of the Lambs, The (1991)         [Crime, Horror, Thriller]   \n",
      "1939                Matrix, The (1999)        [Action, Sci-Fi, Thriller]   \n",
      "\n",
      "      avg_rating  rating_count  \n",
      "314     4.164134           329  \n",
      "277     4.429022           317  \n",
      "257     4.197068           307  \n",
      "510     4.161290           279  \n",
      "1939    4.192446           278  \n"
     ]
    }
   ],
   "source": [
    "# Demonstration of different recommendation scenarios\n",
    "print(\"\\n--- DEMONSTRATION OF DIFFERENT APPROACHES ---\")\n",
    "\n",
    "# Content based\n",
    "print(\"\\n1. Content-based recommendations for 'Inception':\")\n",
    "try:\n",
    "    inception_idx = movies[movies['title'].str.contains(\"Inception\", case=False)].index[0]\n",
    "    sim_scores = list(enumerate(title_similarity[inception_idx]))\n",
    "    sim_scores = sorted(sim_scores, key=lambda x: x[1], reverse=True)\n",
    "    sim_indices = [i[0] for i in sim_scores[1:6]]\n",
    "    print(movies.iloc[sim_indices][['title', 'genres']])\n",
    "except IndexError:\n",
    "    print(\"Movie not found in database\")\n",
    "\n",
    "# Collaborative\n",
    "print(\"\\n2. Collaborative recommendations for user 5:\")\n",
    "user_id = 5\n",
    "rated_movies = ratings[ratings['userId'] == user_id]['movieId']\n",
    "unseen_movies = [m for m in all_movies if m not in rated_movies.values]\n",
    "svd_testset = [[user_id, movie_id, 4.] for movie_id in unseen_movies]\n",
    "predictions = svd.test(svd_testset)\n",
    "top_movies = sorted(predictions, key=lambda x: x.est, reverse=True)[:top_n]\n",
    "recommended_movie_ids = [int(pred.iid) for pred in top_movies]\n",
    "print(movies[movies['movieId'].isin(recommended_movie_ids)][['title', 'genres']])\n",
    "\n",
    "# Hybrid\n",
    "print(\"\\n3. Hybrid recommendations for user 10 who liked 'The Dark Knight':\")\n",
    "user_id = 10\n",
    "query = \"The Dark Knight\"\n",
    "try:\n",
    "    query_idx = movies[movies['title'].str.contains(query, case=False)].index[0]\n",
    "    content_scores = title_similarity[query_idx]\n",
    "    svd_scores = []\n",
    "    for movie_id in movies['movieId']:\n",
    "        svd_scores.append(svd.predict(user_id, movie_id).est)\n",
    "    content_scores_norm = (content_scores - np.min(content_scores)) / (np.max(content_scores) - np.min(content_scores))\n",
    "    svd_scores_norm = (np.array(svd_scores) - np.min(svd_scores)) / (np.max(svd_scores) - np.min(svd_scores))\n",
    "    combined_scores = 0.5 * content_scores_norm + 0.5 * svd_scores_norm\n",
    "    top_indices = np.argsort(combined_scores)[::-1][:top_n]\n",
    "    print(movies.iloc[top_indices][['title', 'genres']])\n",
    "except IndexError:\n",
    "    print(\"Movie not found in database\")\n",
    "\n",
    "# Cold start handling\n",
    "print(\"\\n4. Cold start handling for new user (showing popular movies):\")\n",
    "print(popular_recs)"
   ]
  },
  {
   "cell_type": "code",
   "execution_count": null,
   "id": "7a2648f6-0c72-4f99-982e-a485f564043d",
   "metadata": {},
   "outputs": [],
   "source": []
  },
  {
   "cell_type": "code",
   "execution_count": null,
   "id": "282dbedb-538a-4f95-939a-9a8650231290",
   "metadata": {},
   "outputs": [],
   "source": []
  }
 ],
 "metadata": {
  "kernelspec": {
   "display_name": "Python 3 (ipykernel)",
   "language": "python",
   "name": "python3"
  },
  "language_info": {
   "codemirror_mode": {
    "name": "ipython",
    "version": 3
   },
   "file_extension": ".py",
   "mimetype": "text/x-python",
   "name": "python",
   "nbconvert_exporter": "python",
   "pygments_lexer": "ipython3",
   "version": "3.12.7"
  }
 },
 "nbformat": 4,
 "nbformat_minor": 5
}
